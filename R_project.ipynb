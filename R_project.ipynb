{
  "nbformat": 4,
  "nbformat_minor": 0,
  "metadata": {
    "colab": {
      "name": "R_project.ipynb",
      "provenance": [],
      "authorship_tag": "ABX9TyOzp9BM5qwEXiv+4XmEl070",
      "include_colab_link": true
    },
    "kernelspec": {
      "name": "ir",
      "display_name": "R"
    },
    "language_info": {
      "name": "R"
    }
  },
  "cells": [
    {
      "cell_type": "markdown",
      "metadata": {
        "id": "view-in-github",
        "colab_type": "text"
      },
      "source": [
        "<a href=\"https://colab.research.google.com/github/abdullatif14/R_project_week12/blob/main/R_project.ipynb\" target=\"_parent\"><img src=\"https://colab.research.google.com/assets/colab-badge.svg\" alt=\"Open In Colab\"/></a>"
      ]
    },
    {
      "cell_type": "markdown",
      "metadata": {
        "id": "lb4cCps1CVYj"
      },
      "source": [
        "###Reading and Cleaning the data"
      ]
    },
    {
      "cell_type": "code",
      "metadata": {
        "colab": {
          "base_uri": "https://localhost:8080/",
          "height": 507
        },
        "id": "1vIKRHVrCVBT",
        "outputId": "17aa00e0-b96c-4bd8-cd56-04e299a1bf0c"
      },
      "source": [
        "ad <- read.csv('/content/advertising.csv')\n",
        "head(ad)"
      ],
      "execution_count": 2,
      "outputs": [
        {
          "output_type": "display_data",
          "data": {
            "text/plain": [
              "  Daily.Time.Spent.on.Site Age Area.Income Daily.Internet.Usage\n",
              "1 68.95                    35  61833.90    256.09              \n",
              "2 80.23                    31  68441.85    193.77              \n",
              "3 69.47                    26  59785.94    236.50              \n",
              "4 74.15                    29  54806.18    245.89              \n",
              "5 68.37                    35  73889.99    225.58              \n",
              "6 59.99                    23  59761.56    226.74              \n",
              "  Ad.Topic.Line                         City           Male Country   \n",
              "1 Cloned 5thgeneration orchestration    Wrightburgh    0    Tunisia   \n",
              "2 Monitored national standardization    West Jodi      1    Nauru     \n",
              "3 Organic bottom-line service-desk      Davidton       0    San Marino\n",
              "4 Triple-buffered reciprocal time-frame West Terrifurt 1    Italy     \n",
              "5 Robust logistical utilization         South Manuel   0    Iceland   \n",
              "6 Sharable client-driven software       Jamieberg      1    Norway    \n",
              "  Timestamp           Clicked.on.Ad\n",
              "1 2016-03-27 00:53:11 0            \n",
              "2 2016-04-04 01:39:02 0            \n",
              "3 2016-03-13 20:35:42 0            \n",
              "4 2016-01-10 02:31:19 0            \n",
              "5 2016-06-03 03:36:18 0            \n",
              "6 2016-05-19 14:30:17 0            "
            ],
            "text/latex": "A data.frame: 6 × 10\n\\begin{tabular}{r|llllllllll}\n  & Daily.Time.Spent.on.Site & Age & Area.Income & Daily.Internet.Usage & Ad.Topic.Line & City & Male & Country & Timestamp & Clicked.on.Ad\\\\\n  & <dbl> & <int> & <dbl> & <dbl> & <chr> & <chr> & <int> & <chr> & <chr> & <int>\\\\\n\\hline\n\t1 & 68.95 & 35 & 61833.90 & 256.09 & Cloned 5thgeneration orchestration    & Wrightburgh    & 0 & Tunisia    & 2016-03-27 00:53:11 & 0\\\\\n\t2 & 80.23 & 31 & 68441.85 & 193.77 & Monitored national standardization    & West Jodi      & 1 & Nauru      & 2016-04-04 01:39:02 & 0\\\\\n\t3 & 69.47 & 26 & 59785.94 & 236.50 & Organic bottom-line service-desk      & Davidton       & 0 & San Marino & 2016-03-13 20:35:42 & 0\\\\\n\t4 & 74.15 & 29 & 54806.18 & 245.89 & Triple-buffered reciprocal time-frame & West Terrifurt & 1 & Italy      & 2016-01-10 02:31:19 & 0\\\\\n\t5 & 68.37 & 35 & 73889.99 & 225.58 & Robust logistical utilization         & South Manuel   & 0 & Iceland    & 2016-06-03 03:36:18 & 0\\\\\n\t6 & 59.99 & 23 & 59761.56 & 226.74 & Sharable client-driven software       & Jamieberg      & 1 & Norway     & 2016-05-19 14:30:17 & 0\\\\\n\\end{tabular}\n",
            "text/markdown": "\nA data.frame: 6 × 10\n\n| <!--/--> | Daily.Time.Spent.on.Site &lt;dbl&gt; | Age &lt;int&gt; | Area.Income &lt;dbl&gt; | Daily.Internet.Usage &lt;dbl&gt; | Ad.Topic.Line &lt;chr&gt; | City &lt;chr&gt; | Male &lt;int&gt; | Country &lt;chr&gt; | Timestamp &lt;chr&gt; | Clicked.on.Ad &lt;int&gt; |\n|---|---|---|---|---|---|---|---|---|---|---|\n| 1 | 68.95 | 35 | 61833.90 | 256.09 | Cloned 5thgeneration orchestration    | Wrightburgh    | 0 | Tunisia    | 2016-03-27 00:53:11 | 0 |\n| 2 | 80.23 | 31 | 68441.85 | 193.77 | Monitored national standardization    | West Jodi      | 1 | Nauru      | 2016-04-04 01:39:02 | 0 |\n| 3 | 69.47 | 26 | 59785.94 | 236.50 | Organic bottom-line service-desk      | Davidton       | 0 | San Marino | 2016-03-13 20:35:42 | 0 |\n| 4 | 74.15 | 29 | 54806.18 | 245.89 | Triple-buffered reciprocal time-frame | West Terrifurt | 1 | Italy      | 2016-01-10 02:31:19 | 0 |\n| 5 | 68.37 | 35 | 73889.99 | 225.58 | Robust logistical utilization         | South Manuel   | 0 | Iceland    | 2016-06-03 03:36:18 | 0 |\n| 6 | 59.99 | 23 | 59761.56 | 226.74 | Sharable client-driven software       | Jamieberg      | 1 | Norway     | 2016-05-19 14:30:17 | 0 |\n\n",
            "text/html": [
              "<table class=\"dataframe\">\n",
              "<caption>A data.frame: 6 × 10</caption>\n",
              "<thead>\n",
              "\t<tr><th></th><th scope=col>Daily.Time.Spent.on.Site</th><th scope=col>Age</th><th scope=col>Area.Income</th><th scope=col>Daily.Internet.Usage</th><th scope=col>Ad.Topic.Line</th><th scope=col>City</th><th scope=col>Male</th><th scope=col>Country</th><th scope=col>Timestamp</th><th scope=col>Clicked.on.Ad</th></tr>\n",
              "\t<tr><th></th><th scope=col>&lt;dbl&gt;</th><th scope=col>&lt;int&gt;</th><th scope=col>&lt;dbl&gt;</th><th scope=col>&lt;dbl&gt;</th><th scope=col>&lt;chr&gt;</th><th scope=col>&lt;chr&gt;</th><th scope=col>&lt;int&gt;</th><th scope=col>&lt;chr&gt;</th><th scope=col>&lt;chr&gt;</th><th scope=col>&lt;int&gt;</th></tr>\n",
              "</thead>\n",
              "<tbody>\n",
              "\t<tr><th scope=row>1</th><td>68.95</td><td>35</td><td>61833.90</td><td>256.09</td><td>Cloned 5thgeneration orchestration   </td><td>Wrightburgh   </td><td>0</td><td>Tunisia   </td><td>2016-03-27 00:53:11</td><td>0</td></tr>\n",
              "\t<tr><th scope=row>2</th><td>80.23</td><td>31</td><td>68441.85</td><td>193.77</td><td>Monitored national standardization   </td><td>West Jodi     </td><td>1</td><td>Nauru     </td><td>2016-04-04 01:39:02</td><td>0</td></tr>\n",
              "\t<tr><th scope=row>3</th><td>69.47</td><td>26</td><td>59785.94</td><td>236.50</td><td>Organic bottom-line service-desk     </td><td>Davidton      </td><td>0</td><td>San Marino</td><td>2016-03-13 20:35:42</td><td>0</td></tr>\n",
              "\t<tr><th scope=row>4</th><td>74.15</td><td>29</td><td>54806.18</td><td>245.89</td><td>Triple-buffered reciprocal time-frame</td><td>West Terrifurt</td><td>1</td><td>Italy     </td><td>2016-01-10 02:31:19</td><td>0</td></tr>\n",
              "\t<tr><th scope=row>5</th><td>68.37</td><td>35</td><td>73889.99</td><td>225.58</td><td>Robust logistical utilization        </td><td>South Manuel  </td><td>0</td><td>Iceland   </td><td>2016-06-03 03:36:18</td><td>0</td></tr>\n",
              "\t<tr><th scope=row>6</th><td>59.99</td><td>23</td><td>59761.56</td><td>226.74</td><td>Sharable client-driven software      </td><td>Jamieberg     </td><td>1</td><td>Norway    </td><td>2016-05-19 14:30:17</td><td>0</td></tr>\n",
              "</tbody>\n",
              "</table>\n"
            ]
          },
          "metadata": {
            "tags": []
          }
        }
      ]
    },
    {
      "cell_type": "code",
      "metadata": {
        "colab": {
          "base_uri": "https://localhost:8080/",
          "height": 34
        },
        "id": "FFWi6vj2DG8b",
        "outputId": "abc40f5e-3436-4f1e-9228-16a703abaf25"
      },
      "source": [
        "# lets check for missing data\n",
        "length(which(is.na(ad)))\n",
        "\n",
        "# we can see there are no missing values"
      ],
      "execution_count": 3,
      "outputs": [
        {
          "output_type": "display_data",
          "data": {
            "text/plain": [
              "[1] 0"
            ],
            "text/latex": "0",
            "text/markdown": "0",
            "text/html": [
              "0"
            ]
          },
          "metadata": {
            "tags": []
          }
        }
      ]
    },
    {
      "cell_type": "code",
      "metadata": {
        "colab": {
          "base_uri": "https://localhost:8080/",
          "height": 51
        },
        "id": "pO3jpBEBDdiN",
        "outputId": "567a49c5-2f46-4690-adae-71eec86cb268"
      },
      "source": [
        "# double checking for missing values in any of the columns\n",
        "colSums(is.na(ad))"
      ],
      "execution_count": 5,
      "outputs": [
        {
          "output_type": "display_data",
          "data": {
            "text/plain": [
              "Daily.Time.Spent.on.Site                      Age              Area.Income \n",
              "                       0                        0                        0 \n",
              "    Daily.Internet.Usage            Ad.Topic.Line                     City \n",
              "                       0                        0                        0 \n",
              "                    Male                  Country                Timestamp \n",
              "                       0                        0                        0 \n",
              "           Clicked.on.Ad \n",
              "                       0 "
            ],
            "text/latex": "\\begin{description*}\n\\item[Daily.Time.Spent.on.Site] 0\n\\item[Age] 0\n\\item[Area.Income] 0\n\\item[Daily.Internet.Usage] 0\n\\item[Ad.Topic.Line] 0\n\\item[City] 0\n\\item[Male] 0\n\\item[Country] 0\n\\item[Timestamp] 0\n\\item[Clicked.on.Ad] 0\n\\end{description*}\n",
            "text/markdown": "Daily.Time.Spent.on.Site\n:   0Age\n:   0Area.Income\n:   0Daily.Internet.Usage\n:   0Ad.Topic.Line\n:   0City\n:   0Male\n:   0Country\n:   0Timestamp\n:   0Clicked.on.Ad\n:   0\n\n",
            "text/html": [
              "<style>\n",
              ".dl-inline {width: auto; margin:0; padding: 0}\n",
              ".dl-inline>dt, .dl-inline>dd {float: none; width: auto; display: inline-block}\n",
              ".dl-inline>dt::after {content: \":\\0020\"; padding-right: .5ex}\n",
              ".dl-inline>dt:not(:first-of-type) {padding-left: .5ex}\n",
              "</style><dl class=dl-inline><dt>Daily.Time.Spent.on.Site</dt><dd>0</dd><dt>Age</dt><dd>0</dd><dt>Area.Income</dt><dd>0</dd><dt>Daily.Internet.Usage</dt><dd>0</dd><dt>Ad.Topic.Line</dt><dd>0</dd><dt>City</dt><dd>0</dd><dt>Male</dt><dd>0</dd><dt>Country</dt><dd>0</dd><dt>Timestamp</dt><dd>0</dd><dt>Clicked.on.Ad</dt><dd>0</dd></dl>\n"
            ]
          },
          "metadata": {
            "tags": []
          }
        }
      ]
    },
    {
      "cell_type": "code",
      "metadata": {
        "colab": {
          "base_uri": "https://localhost:8080/",
          "height": 34
        },
        "id": "UUleeD6bDtSv",
        "outputId": "e38f58da-40e8-4cc6-9e31-d1027300eb54"
      },
      "source": [
        "# checking for duplicates\n",
        "duplicated <- ad[duplicated(ad),]\n",
        "length(duplicated)"
      ],
      "execution_count": 14,
      "outputs": [
        {
          "output_type": "display_data",
          "data": {
            "text/plain": [
              "[1] 10"
            ],
            "text/latex": "10",
            "text/markdown": "10",
            "text/html": [
              "10"
            ]
          },
          "metadata": {
            "tags": []
          }
        }
      ]
    },
    {
      "cell_type": "code",
      "metadata": {
        "colab": {
          "base_uri": "https://localhost:8080/",
          "height": 34
        },
        "id": "Zjq7PBn2Kcvi",
        "outputId": "f98f848f-6d05-4928-fa09-fa6e55411e03"
      },
      "source": [
        "unique_items <- ad[!duplicated(ad), ]\n",
        "\n",
        "# What about seeing what these unique items are?\n",
        "# ---\n",
        "length(unique_items)\n",
        "#length(which(is.na(data)))\n",
        "#head(unique_items)"
      ],
      "execution_count": 12,
      "outputs": [
        {
          "output_type": "display_data",
          "data": {
            "text/plain": [
              "[1] 10"
            ],
            "text/latex": "10",
            "text/markdown": "10",
            "text/html": [
              "10"
            ]
          },
          "metadata": {
            "tags": []
          }
        }
      ]
    },
    {
      "cell_type": "code",
      "metadata": {
        "colab": {
          "base_uri": "https://localhost:8080/",
          "height": 95
        },
        "id": "J07gKtjzO99b",
        "outputId": "0a19e058-317d-4f3d-9516-6af35637e211"
      },
      "source": [
        "#Lets check for outliers\n",
        "Boxplot(clicked.on.ad)"
      ],
      "execution_count": 18,
      "outputs": [
        {
          "output_type": "error",
          "ename": "ERROR",
          "evalue": "ignored",
          "traceback": [
            "Error in Boxplot(clicked.on.ad): could not find function \"Boxplot\"\nTraceback:\n"
          ]
        }
      ]
    },
    {
      "cell_type": "markdown",
      "metadata": {
        "id": "WxKC31O6CCPb"
      },
      "source": [
        "##Univariate analysis"
      ]
    },
    {
      "cell_type": "code",
      "metadata": {
        "id": "_-NstYD-BNvj"
      },
      "source": [
        ""
      ],
      "execution_count": null,
      "outputs": []
    }
  ]
}